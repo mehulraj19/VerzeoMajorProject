{
 "cells": [
  {
   "cell_type": "markdown",
   "metadata": {},
   "source": [
    "### Based on what customers ask, filter the dataset and provide results accordingly."
   ]
  },
  {
   "cell_type": "code",
   "execution_count": 1,
   "metadata": {},
   "outputs": [],
   "source": [
    "import numpy as np\n",
    "import pandas as pd"
   ]
  },
  {
   "cell_type": "code",
   "execution_count": 2,
   "metadata": {},
   "outputs": [],
   "source": [
    "dataset = pd.read_csv('Main.csv')"
   ]
  },
  {
   "cell_type": "code",
   "execution_count": 3,
   "metadata": {},
   "outputs": [
    {
     "data": {
      "text/plain": [
       "Index(['Unnamed: 0', 'Price', 'Area', 'Location', 'No. of Bedrooms', 'Resale',\n",
       "       'MaintenanceStaff', 'Gymnasium', 'SwimmingPool', 'LandscapedGardens',\n",
       "       'JoggingTrack', 'RainWaterHarvesting', 'IndoorGames', 'ShoppingMall',\n",
       "       'Intercom', 'SportsFacility', 'ATM', 'ClubHouse', 'School',\n",
       "       '24X7Security', 'PowerBackup', 'CarParking', 'StaffQuarter',\n",
       "       'Cafeteria', 'MultipurposeRoom', 'Hospital', 'WashingMachine',\n",
       "       'Gasconnection', 'AC', 'Wifi', 'Children'splayarea', 'LiftAvailable',\n",
       "       'BED', 'VaastuCompliant', 'Microwave', 'GolfCourse', 'TV',\n",
       "       'DiningTable', 'Sofa', 'Wardrobe', 'Refrigerator', 'city'],\n",
       "      dtype='object')"
      ]
     },
     "execution_count": 3,
     "metadata": {},
     "output_type": "execute_result"
    }
   ],
   "source": [
    "dataset.columns"
   ]
  },
  {
   "cell_type": "code",
   "execution_count": 4,
   "metadata": {},
   "outputs": [
    {
     "data": {
      "text/plain": [
       "(32963, 42)"
      ]
     },
     "execution_count": 4,
     "metadata": {},
     "output_type": "execute_result"
    }
   ],
   "source": [
    "dataset.shape"
   ]
  },
  {
   "cell_type": "code",
   "execution_count": 5,
   "metadata": {},
   "outputs": [
    {
     "data": {
      "text/plain": [
       "16000"
      ]
     },
     "execution_count": 5,
     "metadata": {},
     "output_type": "execute_result"
    }
   ],
   "source": [
    "max(dataset['Area'])"
   ]
  },
  {
   "cell_type": "code",
   "execution_count": 6,
   "metadata": {},
   "outputs": [
    {
     "data": {
      "text/plain": [
       "854599999"
      ]
     },
     "execution_count": 6,
     "metadata": {},
     "output_type": "execute_result"
    }
   ],
   "source": [
    "max(dataset['Price'])"
   ]
  },
  {
   "cell_type": "code",
   "execution_count": 7,
   "metadata": {},
   "outputs": [
    {
     "name": "stdout",
     "output_type": "stream",
     "text": [
      "Do you have any preferred ciy in mind: Hyderabad\n"
     ]
    }
   ],
   "source": [
    "city = ''\n",
    "response = input(\"Do you have any preferred ciy in mind: \")\n",
    "if response == 'yes':\n",
    "    city = input(\"Choose among the metropoliton cities (Delhi, Banglore, Chennai, Mumbai, Kolkata, Hyderabad): \")\n",
    "    dataset = dataset[dataset['city'] == city]"
   ]
  },
  {
   "cell_type": "code",
   "execution_count": 8,
   "metadata": {},
   "outputs": [
    {
     "name": "stdout",
     "output_type": "stream",
     "text": [
      "Give preferred size of the house(max: 16000): 2630\n"
     ]
    }
   ],
   "source": [
    "area = 0\n",
    "area = int(input(\"Give preferred size of the house(max: 16000): \"))\n",
    "dataset = dataset[dataset['Area'] == area]"
   ]
  },
  {
   "cell_type": "code",
   "execution_count": 9,
   "metadata": {},
   "outputs": [
    {
     "name": "stdout",
     "output_type": "stream",
     "text": [
      "Enter the number of bedrooms you want:4\n"
     ]
    }
   ],
   "source": [
    "n_bedrooms = 0\n",
    "n_bedrooms = int(input(\"Enter the number of bedrooms you want:\"))\n",
    "dataset = dataset[dataset['No. of Bedrooms'] == n_bedrooms]"
   ]
  },
  {
   "cell_type": "code",
   "execution_count": 10,
   "metadata": {},
   "outputs": [
    {
     "name": "stdout",
     "output_type": "stream",
     "text": [
      "Are you looking for all the basic facilities of a society: yes\n"
     ]
    }
   ],
   "source": [
    "response = input(\"Are you looking for all the basic facilities of a society: \")\n",
    "if response == 'yes':\n",
    "    dataset = dataset[(dataset['MaintenanceStaff']==1) & (dataset['Gymnasium']==1) & (dataset['SwimmingPool']==1) &\n",
    "                      (dataset['LandscapedGardens']==1) & (dataset['JoggingTrack']==1) & (dataset['RainWaterHarvesting']==1) &\n",
    "                      (dataset['IndoorGames']==1) & (dataset['Intercom']==1) & (dataset['ClubHouse']==1)&\n",
    "                      (dataset['24X7Security']==1) & (dataset['PowerBackup']==1) & (dataset['CarParking']==1) & \n",
    "                      (dataset['StaffQuarter']==1) & (dataset['MultipurposeRoom']==1) &(dataset['VaastuCompliant'] == 1)&\n",
    "                      (dataset[\"Children'splayarea\"]==1) & (dataset['LiftAvailable']==1)]"
   ]
  },
  {
   "cell_type": "code",
   "execution_count": 11,
   "metadata": {},
   "outputs": [
    {
     "name": "stdout",
     "output_type": "stream",
     "text": [
      "**Note:** These services increases price drastically.\n",
      "Are you looking for city type society including shoppingMall, sportsfacility(dedicated for different sports): no\n"
     ]
    }
   ],
   "source": [
    "print('**Note:** These services increases price drastically.')\n",
    "response = input('Are you looking for city type society including shoppingMall, sportsfacility(dedicated for different sports): ')\n",
    "\n",
    "if response == 'yes':\n",
    "    dataset = dataset[(dataset['ShoppingMall']==1) & (dataset['SportsFacility']==1) & (dataset['ATM']==1)\n",
    "              & (dataset['School']==1) & (dataset['Cafeteria'])==1 & (dataset['Hospital']==1)]"
   ]
  },
  {
   "cell_type": "code",
   "execution_count": 12,
   "metadata": {},
   "outputs": [
    {
     "name": "stdout",
     "output_type": "stream",
     "text": [
      "Let's go inside house and see what you want: \n",
      "You need to provide parameters accordingly:\n",
      "--> 0: you do not need\n",
      "--> 1: you do need\n",
      "--> 9: you are not sure\n",
      "Do you want Washing Machine: 0\n",
      "Are you into Golf: 0\n",
      "Do you want Gas Connection: 0\n",
      "Do you need internal furnishing including wardrobes, dining hall, sofa: 0\n",
      "Do you need internal electronic units and wifi: 0\n"
     ]
    }
   ],
   "source": [
    "print(\"Let's go inside house and see what you want: \")\n",
    "print('You need to provide parameters accordingly:')\n",
    "print('--> 0: you do not need')\n",
    "print('--> 1: you do need')\n",
    "print('--> 9: you are not sure')\n",
    "need = 0\n",
    "\n",
    "need = int(input('Do you want Washing Machine: '))\n",
    "dataset = dataset[dataset['WashingMachine'] == need]\n",
    "\n",
    "need = int(input('Are you into Golf: '))\n",
    "dataset = dataset[dataset['GolfCourse'] == need]\n",
    "\n",
    "need = int(input('Do you want Gas Connection: '))\n",
    "dataset = dataset[dataset['Gasconnection'] == need]\n",
    "\n",
    "need = int(input('Do you need internal furnishing including wardrobes, dining hall, sofa: '))\n",
    "dataset = dataset[(dataset['DiningTable'] == need) & (dataset['Sofa'] == need) & (dataset['Wardrobe'] == need)]\n",
    "\n",
    "need = int(input('Do you need internal electronic units and wifi: '))\n",
    "dataset = dataset[(dataset['AC']==need) & (dataset['Wifi']==1) & (dataset['BED']==need) & (dataset['Microwave']==need)\n",
    "                 & (dataset['TV']==need) & (dataset['Refrigerator']==need)]"
   ]
  },
  {
   "cell_type": "code",
   "execution_count": 13,
   "metadata": {},
   "outputs": [
    {
     "data": {
      "text/html": [
       "<div>\n",
       "<style scoped>\n",
       "    .dataframe tbody tr th:only-of-type {\n",
       "        vertical-align: middle;\n",
       "    }\n",
       "\n",
       "    .dataframe tbody tr th {\n",
       "        vertical-align: top;\n",
       "    }\n",
       "\n",
       "    .dataframe thead th {\n",
       "        text-align: right;\n",
       "    }\n",
       "</style>\n",
       "<table border=\"1\" class=\"dataframe\">\n",
       "  <thead>\n",
       "    <tr style=\"text-align: right;\">\n",
       "      <th></th>\n",
       "      <th>Unnamed: 0</th>\n",
       "      <th>Price</th>\n",
       "      <th>Area</th>\n",
       "      <th>Location</th>\n",
       "      <th>No. of Bedrooms</th>\n",
       "      <th>Resale</th>\n",
       "      <th>MaintenanceStaff</th>\n",
       "      <th>Gymnasium</th>\n",
       "      <th>SwimmingPool</th>\n",
       "      <th>LandscapedGardens</th>\n",
       "      <th>...</th>\n",
       "      <th>BED</th>\n",
       "      <th>VaastuCompliant</th>\n",
       "      <th>Microwave</th>\n",
       "      <th>GolfCourse</th>\n",
       "      <th>TV</th>\n",
       "      <th>DiningTable</th>\n",
       "      <th>Sofa</th>\n",
       "      <th>Wardrobe</th>\n",
       "      <th>Refrigerator</th>\n",
       "      <th>city</th>\n",
       "    </tr>\n",
       "  </thead>\n",
       "  <tbody>\n",
       "    <tr>\n",
       "      <th>12841</th>\n",
       "      <td>1759</td>\n",
       "      <td>18400000</td>\n",
       "      <td>2630</td>\n",
       "      <td>Kokapet</td>\n",
       "      <td>4</td>\n",
       "      <td>0</td>\n",
       "      <td>1</td>\n",
       "      <td>1</td>\n",
       "      <td>1</td>\n",
       "      <td>1</td>\n",
       "      <td>...</td>\n",
       "      <td>0</td>\n",
       "      <td>1</td>\n",
       "      <td>0</td>\n",
       "      <td>0</td>\n",
       "      <td>0</td>\n",
       "      <td>0</td>\n",
       "      <td>0</td>\n",
       "      <td>0</td>\n",
       "      <td>0</td>\n",
       "      <td>Hyderabad</td>\n",
       "    </tr>\n",
       "  </tbody>\n",
       "</table>\n",
       "<p>1 rows × 42 columns</p>\n",
       "</div>"
      ],
      "text/plain": [
       "       Unnamed: 0     Price  Area Location  No. of Bedrooms  Resale  \\\n",
       "12841        1759  18400000  2630  Kokapet                4       0   \n",
       "\n",
       "       MaintenanceStaff  Gymnasium  SwimmingPool  LandscapedGardens  ...  BED  \\\n",
       "12841                 1          1             1                  1  ...    0   \n",
       "\n",
       "       VaastuCompliant  Microwave  GolfCourse  TV  DiningTable  Sofa  \\\n",
       "12841                1          0           0   0            0     0   \n",
       "\n",
       "       Wardrobe  Refrigerator       city  \n",
       "12841         0             0  Hyderabad  \n",
       "\n",
       "[1 rows x 42 columns]"
      ]
     },
     "execution_count": 13,
     "metadata": {},
     "output_type": "execute_result"
    }
   ],
   "source": [
    "dataset.head()"
   ]
  },
  {
   "cell_type": "markdown",
   "metadata": {},
   "source": [
    "### Now, working in terms of range"
   ]
  },
  {
   "cell_type": "code",
   "execution_count": 14,
   "metadata": {},
   "outputs": [],
   "source": [
    "df = pd.read_csv('Main.csv')"
   ]
  },
  {
   "cell_type": "code",
   "execution_count": 15,
   "metadata": {},
   "outputs": [],
   "source": [
    "lower_limit = 0\n",
    "higher_limit = 0"
   ]
  },
  {
   "cell_type": "code",
   "execution_count": 16,
   "metadata": {},
   "outputs": [
    {
     "name": "stdout",
     "output_type": "stream",
     "text": [
      "Give the number of bedrooms you are looking for: \n",
      "Min number of bedrooms: 3\n",
      "Max number of bedrooms: 4\n"
     ]
    }
   ],
   "source": [
    "print('Give the number of bedrooms you are looking for: ')\n",
    "lower_limit = int(input('Min number of bedrooms: '))\n",
    "higher_limit = int(input('Max number of bedrooms: '))\n",
    "\n",
    "df = df[(df['No. of Bedrooms'] >= lower_limit) & (df['No. of Bedrooms'] <= higher_limit)]"
   ]
  },
  {
   "cell_type": "code",
   "execution_count": 17,
   "metadata": {},
   "outputs": [
    {
     "name": "stdout",
     "output_type": "stream",
     "text": [
      "Area of the house: \n",
      "Min size: 2000\n",
      "Max size: 6000\n"
     ]
    }
   ],
   "source": [
    "print('Area of the house: ')\n",
    "lower_limit = int(input('Min size: '))\n",
    "higher_limit = int(input('Max size: '))\n",
    "\n",
    "df = df[(df['Area'] >= lower_limit) & (df['Area'] <= higher_limit)]"
   ]
  },
  {
   "cell_type": "code",
   "execution_count": 18,
   "metadata": {},
   "outputs": [
    {
     "name": "stdout",
     "output_type": "stream",
     "text": [
      "Price range: \n",
      "Min Price: 200000000\n",
      "Max Price: 500000000\n"
     ]
    }
   ],
   "source": [
    "print('Price range: ')\n",
    "lower_limit = int(input('Min Price: '))\n",
    "higher_limit = int(input('Max Price: '))\n",
    "\n",
    "df = df[(df['Price'] >= lower_limit) & (df['Price'] <= higher_limit)]"
   ]
  },
  {
   "cell_type": "code",
   "execution_count": 19,
   "metadata": {},
   "outputs": [
    {
     "data": {
      "text/html": [
       "<div>\n",
       "<style scoped>\n",
       "    .dataframe tbody tr th:only-of-type {\n",
       "        vertical-align: middle;\n",
       "    }\n",
       "\n",
       "    .dataframe tbody tr th {\n",
       "        vertical-align: top;\n",
       "    }\n",
       "\n",
       "    .dataframe thead th {\n",
       "        text-align: right;\n",
       "    }\n",
       "</style>\n",
       "<table border=\"1\" class=\"dataframe\">\n",
       "  <thead>\n",
       "    <tr style=\"text-align: right;\">\n",
       "      <th></th>\n",
       "      <th>Price</th>\n",
       "      <th>Location</th>\n",
       "    </tr>\n",
       "  </thead>\n",
       "  <tbody>\n",
       "    <tr>\n",
       "      <th>714</th>\n",
       "      <td>355600000</td>\n",
       "      <td>Dwarka New Delhi 110075</td>\n",
       "    </tr>\n",
       "    <tr>\n",
       "      <th>759</th>\n",
       "      <td>365000000</td>\n",
       "      <td>Karampura</td>\n",
       "    </tr>\n",
       "    <tr>\n",
       "      <th>1397</th>\n",
       "      <td>258500000</td>\n",
       "      <td>Greater Kailash</td>\n",
       "    </tr>\n",
       "    <tr>\n",
       "      <th>1520</th>\n",
       "      <td>250000000</td>\n",
       "      <td>Hanuman Nagar</td>\n",
       "    </tr>\n",
       "    <tr>\n",
       "      <th>1878</th>\n",
       "      <td>500000000</td>\n",
       "      <td>Mansarovar garden</td>\n",
       "    </tr>\n",
       "  </tbody>\n",
       "</table>\n",
       "</div>"
      ],
      "text/plain": [
       "          Price                 Location\n",
       "714   355600000  Dwarka New Delhi 110075\n",
       "759   365000000                Karampura\n",
       "1397  258500000          Greater Kailash\n",
       "1520  250000000            Hanuman Nagar\n",
       "1878  500000000        Mansarovar garden"
      ]
     },
     "execution_count": 19,
     "metadata": {},
     "output_type": "execute_result"
    }
   ],
   "source": [
    "df[['Price','Location']].head()"
   ]
  },
  {
   "cell_type": "markdown",
   "metadata": {},
   "source": [
    "### In terms of location:"
   ]
  },
  {
   "cell_type": "code",
   "execution_count": 20,
   "metadata": {},
   "outputs": [],
   "source": [
    "df1 = pd.read_csv('Main.csv')"
   ]
  },
  {
   "cell_type": "code",
   "execution_count": 21,
   "metadata": {},
   "outputs": [
    {
     "name": "stdout",
     "output_type": "stream",
     "text": [
      "Enter prefer city: Delhi\n"
     ]
    }
   ],
   "source": [
    "city = input('Enter prefer city: ')\n",
    "df1 = df1[df1['city'] == city]"
   ]
  },
  {
   "cell_type": "code",
   "execution_count": 22,
   "metadata": {},
   "outputs": [
    {
     "name": "stdout",
     "output_type": "stream",
     "text": [
      "Enter preferred location: Saket\n"
     ]
    }
   ],
   "source": [
    "location = input('Enter preferred location: ')\n",
    "df1 = df1[df1['Location'] == location]"
   ]
  },
  {
   "cell_type": "code",
   "execution_count": 23,
   "metadata": {},
   "outputs": [
    {
     "data": {
      "text/html": [
       "<div>\n",
       "<style scoped>\n",
       "    .dataframe tbody tr th:only-of-type {\n",
       "        vertical-align: middle;\n",
       "    }\n",
       "\n",
       "    .dataframe tbody tr th {\n",
       "        vertical-align: top;\n",
       "    }\n",
       "\n",
       "    .dataframe thead th {\n",
       "        text-align: right;\n",
       "    }\n",
       "</style>\n",
       "<table border=\"1\" class=\"dataframe\">\n",
       "  <thead>\n",
       "    <tr style=\"text-align: right;\">\n",
       "      <th></th>\n",
       "      <th>Area</th>\n",
       "      <th>No. of Bedrooms</th>\n",
       "      <th>Price</th>\n",
       "    </tr>\n",
       "  </thead>\n",
       "  <tbody>\n",
       "    <tr>\n",
       "      <th>714</th>\n",
       "      <td>2500</td>\n",
       "      <td>4</td>\n",
       "      <td>355600000</td>\n",
       "    </tr>\n",
       "    <tr>\n",
       "      <th>759</th>\n",
       "      <td>2800</td>\n",
       "      <td>4</td>\n",
       "      <td>365000000</td>\n",
       "    </tr>\n",
       "    <tr>\n",
       "      <th>1397</th>\n",
       "      <td>5503</td>\n",
       "      <td>4</td>\n",
       "      <td>258500000</td>\n",
       "    </tr>\n",
       "    <tr>\n",
       "      <th>1520</th>\n",
       "      <td>2150</td>\n",
       "      <td>3</td>\n",
       "      <td>250000000</td>\n",
       "    </tr>\n",
       "    <tr>\n",
       "      <th>1878</th>\n",
       "      <td>3460</td>\n",
       "      <td>4</td>\n",
       "      <td>500000000</td>\n",
       "    </tr>\n",
       "  </tbody>\n",
       "</table>\n",
       "</div>"
      ],
      "text/plain": [
       "      Area  No. of Bedrooms      Price\n",
       "714   2500                4  355600000\n",
       "759   2800                4  365000000\n",
       "1397  5503                4  258500000\n",
       "1520  2150                3  250000000\n",
       "1878  3460                4  500000000"
      ]
     },
     "execution_count": 23,
     "metadata": {},
     "output_type": "execute_result"
    }
   ],
   "source": [
    "df[['Area', 'No. of Bedrooms', 'Price']].head()"
   ]
  },
  {
   "cell_type": "code",
   "execution_count": null,
   "metadata": {},
   "outputs": [],
   "source": []
  }
 ],
 "metadata": {
  "kernelspec": {
   "display_name": "Python 3",
   "language": "python",
   "name": "python3"
  },
  "language_info": {
   "codemirror_mode": {
    "name": "ipython",
    "version": 3
   },
   "file_extension": ".py",
   "mimetype": "text/x-python",
   "name": "python",
   "nbconvert_exporter": "python",
   "pygments_lexer": "ipython3",
   "version": "3.8.3"
  }
 },
 "nbformat": 4,
 "nbformat_minor": 4
}
